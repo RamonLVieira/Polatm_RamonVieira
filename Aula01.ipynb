{
 "cells": [
  {
   "cell_type": "markdown",
   "id": "54b4cfab-37c0-45b1-98a8-a5e7375f511c",
   "metadata": {},
   "source": [
    "# Aula 03/04/2024 - Comandos básicos no Python\n",
    "\n",
    "Nesta aula aprenderemos a importar pacotes e os tipos de variáveis \\ \n",
    "Desenvolvedor: Ramon Laureano Vieira"
   ]
  },
  {
   "cell_type": "markdown",
   "id": "d5a80b4f-0322-4f2d-8eef-5e0f9125faab",
   "metadata": {},
   "source": [
    "## Tipos de variáveis"
   ]
  },
  {
   "cell_type": "code",
   "execution_count": 6,
   "id": "ea761950-ddd9-4cef-9c63-03e1366ad575",
   "metadata": {},
   "outputs": [
    {
     "name": "stdout",
     "output_type": "stream",
     "text": [
      "a = 1.0\n",
      "<class 'float'>\n"
     ]
    }
   ],
   "source": [
    "#Criando variáveis inteiras\n",
    "a = 1.0\n",
    "print('a = '+str(a))\n",
    "print(type(a))"
   ]
  },
  {
   "cell_type": "code",
   "execution_count": 9,
   "id": "c9ec11fa-e4a9-4625-a817-865769fd8394",
   "metadata": {},
   "outputs": [
    {
     "name": "stdout",
     "output_type": "stream",
     "text": [
      "Avaí Futebol Clube\n",
      "<class 'str'>\n"
     ]
    }
   ],
   "source": [
    "#Criando variáveis string\n",
    "b = 'Avaí '\n",
    "c = 'Futebol Clube'\n",
    "print(b+c)\n",
    "print(type(b))"
   ]
  },
  {
   "cell_type": "code",
   "execution_count": 10,
   "id": "ee626882-7320-4cf7-8181-2f1f33de0f5f",
   "metadata": {},
   "outputs": [
    {
     "name": "stdout",
     "output_type": "stream",
     "text": [
      "777.666\n",
      "<class 'float'>\n"
     ]
    }
   ],
   "source": [
    "# Criando variáveis float/double\n",
    "d = 777.666\n",
    "print(d)\n",
    "print(type(d))"
   ]
  }
 ],
 "metadata": {
  "kernelspec": {
   "display_name": "Python 3 (ipykernel)",
   "language": "python",
   "name": "python3"
  },
  "language_info": {
   "codemirror_mode": {
    "name": "ipython",
    "version": 3
   },
   "file_extension": ".py",
   "mimetype": "text/x-python",
   "name": "python",
   "nbconvert_exporter": "python",
   "pygments_lexer": "ipython3",
   "version": "3.11.8"
  }
 },
 "nbformat": 4,
 "nbformat_minor": 5
}
