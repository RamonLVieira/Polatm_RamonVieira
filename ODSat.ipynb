{
 "cells": [
  {
   "cell_type": "code",
   "execution_count": 5,
   "id": "5d07a7db-d0f3-4f71-b16a-29ced3ff8466",
   "metadata": {},
   "outputs": [
    {
     "name": "stdout",
     "output_type": "stream",
     "text": [
      "Saturação de OD ajustada para a altitude: 10.22 mg/L\n",
      "% de saturação de OD: 101.97%\n",
      "Valor de 'q' para o OD: 145.66\n"
     ]
    }
   ],
   "source": [
    "import math\n",
    "\n",
    "# Função para calcular a capacidade de saturação de OD em função da temperatura (em °C)\n",
    "def capacidade_saturacao_od(temperatura):\n",
    "    # Fórmula para o cálculo do OD_SAT com base na temperatura\n",
    "    OD_SAT = (\n",
    "        14.652 - \n",
    "        (4.1022 * 10**-1 * temperatura) + \n",
    "        (7.9910 * 10**-3 * temperatura**2) - \n",
    "        (7.7774 * 10**-5 * temperatura**3)\n",
    "    )\n",
    "    return OD_SAT\n",
    "\n",
    "# Função para calcular a capacidade de saturação de OD ajustada para a altitude\n",
    "def capacidade_saturacao_od_altitude(temperatura, altitude):\n",
    "    OD_SAT = capacidade_saturacao_od(temperatura)\n",
    "    OD_SAT_H = OD_SAT * (1 - (altitude / 9450))\n",
    "    return OD_SAT_H\n",
    "\n",
    "# Função para calcular a % de saturação de OD\n",
    "def calcular_percentual_saturacao_od(od_mg_l, temperatura, altitude):\n",
    "    saturacao_maxima = capacidade_saturacao_od_altitude(temperatura, altitude)\n",
    "    percentual_saturacao = (od_mg_l / saturacao_maxima) * 100\n",
    "    return percentual_saturacao, saturacao_maxima\n",
    "\n",
    "# Função para calcular o 'q' do oxigênio dissolvido (OD) com base na % de saturação\n",
    "def calcular_q_od(percentual_saturacao):\n",
    "    if percentual_saturacao <= 50:\n",
    "        return 0.34 * percentual_saturacao + 0.008095 * percentual_saturacao**2 + 1.35252 * 10**-5 * percentual_saturacao**3 + 3\n",
    "    elif 50 < percentual_saturacao <= 85:\n",
    "        return -1.166 * percentual_saturacao + 0.058 * percentual_saturacao**2 - 3.803435 * 10**-4 * percentual_saturacao**3 + 3\n",
    "    elif 85 < percentual_saturacao <= 100:\n",
    "        return 3.7745 * percentual_saturacao**0.704889 + 3\n",
    "    elif 100 < percentual_saturacao <= 140:\n",
    "        return 2.9 * percentual_saturacao - 0.02496 * percentual_saturacao**2 + 5.60919 * 10**-5 * percentual_saturacao**3 + 50\n",
    "    else:\n",
    "        return 3\n",
    "\n",
    "# Exemplo de uso com os parâmetros de exemplo\n",
    "od_mg_l = 10.42  # OD medido em mg/L\n",
    "temperatura = 14.1  # Temperatura da água em °C\n",
    "altitude = 18  # Altitude em metros\n",
    "\n",
    "# Calcular a % de saturação de OD e o valor de 'q'\n",
    "percentual_saturacao, saturacao_maxima = calcular_percentual_saturacao_od(od_mg_l, temperatura, altitude)\n",
    "q_od = calcular_q_od(percentual_saturacao)\n",
    "\n",
    "# Exibir os resultados\n",
    "print(f\"Saturação de OD ajustada para a altitude: {saturacao_maxima:.2f} mg/L\")\n",
    "print(f\"% de saturação de OD: {percentual_saturacao:.2f}%\")\n",
    "print(f\"Valor de 'q' para o OD: {q_od:.2f}\")"
   ]
  },
  {
   "cell_type": "code",
   "execution_count": null,
   "id": "1fbce83f-5469-4498-9f12-d48a10426268",
   "metadata": {},
   "outputs": [],
   "source": []
  }
 ],
 "metadata": {
  "kernelspec": {
   "display_name": "Python 3 (ipykernel)",
   "language": "python",
   "name": "python3"
  },
  "language_info": {
   "codemirror_mode": {
    "name": "ipython",
    "version": 3
   },
   "file_extension": ".py",
   "mimetype": "text/x-python",
   "name": "python",
   "nbconvert_exporter": "python",
   "pygments_lexer": "ipython3",
   "version": "3.11.8"
  }
 },
 "nbformat": 4,
 "nbformat_minor": 5
}
