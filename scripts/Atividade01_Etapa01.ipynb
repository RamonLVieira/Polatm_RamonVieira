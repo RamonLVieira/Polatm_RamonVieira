{
 "cells": [
  {
   "cell_type": "markdown",
   "id": "616ea479-16ee-4dfc-bc3f-2c8186811b83",
   "metadata": {},
   "source": [
    "# Atividade 01 - Etapa 01\n",
    "\n",
    "### Dados numéricos"
   ]
  },
  {
   "cell_type": "code",
   "execution_count": 67,
   "id": "41cb904c-f448-4fdb-b1c8-9a1b5000f5c4",
   "metadata": {},
   "outputs": [
    {
     "name": "stdout",
     "output_type": "stream",
     "text": [
      "Valor de a = 1\n"
     ]
    },
    {
     "data": {
      "text/plain": [
       "int"
      ]
     },
     "execution_count": 67,
     "metadata": {},
     "output_type": "execute_result"
    }
   ],
   "source": [
    "#Variável inteira\n",
    "a = 1\n",
    "print('Valor de a = '+str(a))\n",
    "type(a)\n",
    "#dá-se o valor 1 à variável a"
   ]
  },
  {
   "cell_type": "code",
   "execution_count": 69,
   "id": "c402670c-76df-4f93-a15f-c9a76b375bc6",
   "metadata": {},
   "outputs": [
    {
     "name": "stdout",
     "output_type": "stream",
     "text": [
      "1.0\n"
     ]
    },
    {
     "data": {
      "text/plain": [
       "float"
      ]
     },
     "execution_count": 69,
     "metadata": {},
     "output_type": "execute_result"
    }
   ],
   "source": [
    "# Variável dupla precisão\n",
    "b = 1.0\n",
    "print(b)\n",
    "type(b)\n",
    "#dá-se o valor 1.0 à variável b, tornando-a uma variável de maior precisão, chamada de float"
   ]
  },
  {
   "cell_type": "code",
   "execution_count": 71,
   "id": "c874b897-0247-4e5d-bb64-ad709c1f2e3c",
   "metadata": {},
   "outputs": [
    {
     "name": "stdout",
     "output_type": "stream",
     "text": [
      "1\n"
     ]
    },
    {
     "data": {
      "text/plain": [
       "int"
      ]
     },
     "execution_count": 71,
     "metadata": {},
     "output_type": "execute_result"
    }
   ],
   "source": [
    "# Converter float para int\n",
    "c = int(b)\n",
    "print(c)\n",
    "type(c)\n",
    "#Usa-se o comando int para transformar a variável de float para int"
   ]
  },
  {
   "cell_type": "code",
   "execution_count": 72,
   "id": "98f2e929-e0a5-454a-a7d5-3f639dbbd65d",
   "metadata": {},
   "outputs": [
    {
     "name": "stdout",
     "output_type": "stream",
     "text": [
      "nan\n"
     ]
    },
    {
     "data": {
      "text/plain": [
       "float"
      ]
     },
     "execution_count": 72,
     "metadata": {},
     "output_type": "execute_result"
    }
   ],
   "source": [
    "# Delacrando nan\n",
    "import numpy as np\n",
    "d = np.nan\n",
    "print(d)\n",
    "type(d)\n",
    "#Importa-se a biblioteca nu,py de arrays"
   ]
  },
  {
   "cell_type": "code",
   "execution_count": 73,
   "id": "6f5b7078-e7fc-410b-9f4e-5b6943f02159",
   "metadata": {},
   "outputs": [
    {
     "name": "stdout",
     "output_type": "stream",
     "text": [
      "nan\n",
      "nan\n",
      "1.0\n"
     ]
    }
   ],
   "source": [
    "# Operação com NaN\n",
    "e = d*1\n",
    "print(e)\n",
    "e = d+1\n",
    "print(e)\n",
    "e = np.nansum([d,1])\n",
    "print(e)\n",
    "#A primeira linha atribui à variável e o mesmo valor que está armazenado em d.\n",
    "#A segunda linha incrementa o valor de d em 1 e atribui o resultado a e.\n",
    "#A terceira linha calcula a soma dos elementos [d, 1], considerando possíveis valores NaN (Not a Number), e atribui o resultado a e.\n",
    "#Cada resultado é impresso na saída padrão após cada operação."
   ]
  },
  {
   "cell_type": "code",
   "execution_count": 75,
   "id": "063e93b7-3277-42f6-948a-dbbd911a894f",
   "metadata": {},
   "outputs": [
    {
     "name": "stdout",
     "output_type": "stream",
     "text": [
      "Fábio\n",
      "Gabriel\n",
      "FábioGabriel\n",
      "Fábio Gabriel\n"
     ]
    }
   ],
   "source": [
    "# Declaração de variável texto\n",
    "f = 'Fábio'\n",
    "g = \"Gabriel\"\n",
    "print(f)\n",
    "print(g)\n",
    "print(f+g)\n",
    "print(f+' '+g)\n",
    "#Este código cria duas variáveis de texto, f contendo \"Fábio\" e g contendo \"Gabriel\". Em seguida, imprime o conteúdo dessas variáveis, primeiro f, depois g.\n",
    "#Depois, ele imprime a concatenação das duas variáveis, ou seja, une o conteúdo de f e g em uma única string.\n",
    "#Por último, ele imprime uma versão mais legível, onde f e g estão separados por um espaço."
   ]
  },
  {
   "cell_type": "markdown",
   "id": "21851bed-4d64-40f3-b813-c81e24722a5d",
   "metadata": {},
   "source": [
    "### Dados tipo bool - lógica"
   ]
  },
  {
   "cell_type": "code",
   "execution_count": 76,
   "id": "097f4f6e-cd52-46ff-9fcc-f7f76427a781",
   "metadata": {},
   "outputs": [
    {
     "data": {
      "text/plain": [
       "True"
      ]
     },
     "execution_count": 76,
     "metadata": {},
     "output_type": "execute_result"
    }
   ],
   "source": [
    "a == 1\n",
    "#Este código verifica se o valor da variável a é igual a 1. Se for, a expressão a == 1 retornará verdadeiro (True); caso contrário, retornará falso (False)."
   ]
  },
  {
   "cell_type": "code",
   "execution_count": 77,
   "id": "31f386e6-77fa-4131-b161-84a9aafb2378",
   "metadata": {},
   "outputs": [
    {
     "name": "stdout",
     "output_type": "stream",
     "text": [
      "True\n"
     ]
    },
    {
     "data": {
      "text/plain": [
       "bool"
      ]
     },
     "execution_count": 77,
     "metadata": {},
     "output_type": "execute_result"
    }
   ],
   "source": [
    "h = (a==1)\n",
    "print(h)\n",
    "type(h)\n",
    "#A expressão `(a == 1)` verifica se o valor da variável `a` é igual a 1. Se for verdadeiro, `h` recebe o valor `True`; caso contrário, `h` recebe o valor `False`.\n",
    "#Em seguida, o valor de `h` é impresso na saída padrão.\n",
    "#`type(h)` retorna o tipo de dado de `h`, que será `<class 'bool'>`, indicando que `h` é uma variável booleana, ou seja, pode conter apenas os valores `True` ou `False`."
   ]
  },
  {
   "cell_type": "code",
   "execution_count": 78,
   "id": "941beae3-6b2d-4f81-8e0b-0b03a54f8276",
   "metadata": {},
   "outputs": [
    {
     "name": "stdout",
     "output_type": "stream",
     "text": [
      "False\n"
     ]
    },
    {
     "data": {
      "text/plain": [
       "bool"
      ]
     },
     "execution_count": 78,
     "metadata": {},
     "output_type": "execute_result"
    }
   ],
   "source": [
    "h = (a==2)\n",
    "print(h)\n",
    "type(h)\n",
    "#Este código verifica se o valor armazenado na variável a é igual a 2. O resultado dessa verificação, que será True se a for igual a 2 e False caso contrário, é atribuído à variável h. Em seguida, o valor de h é impresso e o tipo de dado de h é mostrado, revelando que h é um objeto do tipo booleano (True/False)."
   ]
  },
  {
   "cell_type": "code",
   "execution_count": 79,
   "id": "80a50bf6-abab-4e86-8180-00a75ad10a42",
   "metadata": {},
   "outputs": [
    {
     "data": {
      "text/plain": [
       "bool"
      ]
     },
     "execution_count": 79,
     "metadata": {},
     "output_type": "execute_result"
    }
   ],
   "source": [
    "i = True\n",
    "type(i)\n",
    "#Neste código, uma variável chamada i é definida como sendo igual a True, que é um valor booleano representando verdadeiro. Em seguida, a função type() é usada para determinar o tipo de dado da variável i, que neste caso é um tipo de dado booleano."
   ]
  },
  {
   "cell_type": "code",
   "execution_count": 81,
   "id": "a32fbd2b-65b1-4fa0-ad49-1b49b80240b9",
   "metadata": {},
   "outputs": [
    {
     "data": {
      "text/plain": [
       "str"
      ]
     },
     "execution_count": 81,
     "metadata": {},
     "output_type": "execute_result"
    }
   ],
   "source": [
    "ii = 'True'\n",
    "type(ii)\n",
    "#Este código primeiro atribui a string 'True' à variável ii, e depois usa a função type() para determinar o tipo de dado armazenado em ii, que é uma string."
   ]
  },
  {
   "cell_type": "markdown",
   "id": "e55fefea-28e9-4ea1-951a-dec5ad1911e0",
   "metadata": {},
   "source": [
    "### Operação de comparação"
   ]
  },
  {
   "cell_type": "code",
   "execution_count": 14,
   "id": "679acc44-98dc-40a0-939d-d07d0dca508e",
   "metadata": {},
   "outputs": [
    {
     "data": {
      "text/plain": [
       "True"
      ]
     },
     "execution_count": 14,
     "metadata": {},
     "output_type": "execute_result"
    }
   ],
   "source": [
    "# Operação ==\n",
    "a==b"
   ]
  },
  {
   "cell_type": "code",
   "execution_count": 15,
   "id": "1c03cfea-9d3c-447d-9361-269c6a3cf0f3",
   "metadata": {},
   "outputs": [
    {
     "data": {
      "text/plain": [
       "False"
      ]
     },
     "execution_count": 15,
     "metadata": {},
     "output_type": "execute_result"
    }
   ],
   "source": [
    "# Operação ><\n",
    "a>b"
   ]
  },
  {
   "cell_type": "code",
   "execution_count": 16,
   "id": "04bdc112-8682-4ea2-91f1-20431417ec1a",
   "metadata": {},
   "outputs": [
    {
     "data": {
      "text/plain": [
       "False"
      ]
     },
     "execution_count": 16,
     "metadata": {},
     "output_type": "execute_result"
    }
   ],
   "source": [
    "# Operação !=\n",
    "a!=b"
   ]
  },
  {
   "cell_type": "code",
   "execution_count": 17,
   "id": "27e1e4f7-c735-45f6-bd01-99447c6a761a",
   "metadata": {},
   "outputs": [
    {
     "data": {
      "text/plain": [
       "True"
      ]
     },
     "execution_count": 17,
     "metadata": {},
     "output_type": "execute_result"
    }
   ],
   "source": [
    "# Operação >= ou <=\n",
    "a>=b"
   ]
  },
  {
   "cell_type": "markdown",
   "id": "addc3e13-3b1b-4f91-98c5-16ae54c739f8",
   "metadata": {},
   "source": [
    "### Operações matemáticas"
   ]
  },
  {
   "cell_type": "code",
   "execution_count": 83,
   "id": "d617e12c-1351-4ee0-a61d-dbed71537d37",
   "metadata": {},
   "outputs": [
    {
     "data": {
      "text/plain": [
       "2.0"
      ]
     },
     "execution_count": 83,
     "metadata": {},
     "output_type": "execute_result"
    }
   ],
   "source": [
    "# Soma \n",
    "a+b\n",
    "#Este código realiza a soma entre as duas variáveis traçadas"
   ]
  },
  {
   "cell_type": "code",
   "execution_count": 19,
   "id": "053b89b5-49c5-4fd3-b6e1-c473b9964acd",
   "metadata": {},
   "outputs": [
    {
     "name": "stdout",
     "output_type": "stream",
     "text": [
      "2.0\n"
     ]
    }
   ],
   "source": [
    "# Soma e atribui valor\n",
    "ab = a+b\n",
    "print(ab)"
   ]
  },
  {
   "cell_type": "code",
   "execution_count": 21,
   "id": "7f40c446-ee1c-456d-85a2-c5fc127035ef",
   "metadata": {},
   "outputs": [
    {
     "name": "stdout",
     "output_type": "stream",
     "text": [
      "Não use l como nome de variável\n",
      "1.0\n"
     ]
    }
   ],
   "source": [
    "# Multiplicação\n",
    "l = a*b # Não use l como variável\n",
    "print(\"Não use l como nome de variável\")\n",
    "j = a*b\n",
    "print(j)"
   ]
  },
  {
   "cell_type": "code",
   "execution_count": 22,
   "id": "0e994c2d-5678-4463-8d87-a28df0780063",
   "metadata": {},
   "outputs": [
    {
     "data": {
      "text/plain": [
       "1.0"
      ]
     },
     "execution_count": 22,
     "metadata": {},
     "output_type": "execute_result"
    }
   ],
   "source": [
    "# Divisão\n",
    "a/b"
   ]
  },
  {
   "cell_type": "code",
   "execution_count": 23,
   "id": "dd5a2589-097f-4311-b371-fd060bed8db2",
   "metadata": {},
   "outputs": [
    {
     "data": {
      "text/plain": [
       "25"
      ]
     },
     "execution_count": 23,
     "metadata": {},
     "output_type": "execute_result"
    }
   ],
   "source": [
    "# Potencia\n",
    "5**2"
   ]
  },
  {
   "cell_type": "code",
   "execution_count": 85,
   "id": "65c889e9-2846-4dd1-acbc-8de0fc855156",
   "metadata": {},
   "outputs": [
    {
     "data": {
      "text/plain": [
       "22026.465794806718"
      ]
     },
     "execution_count": 85,
     "metadata": {},
     "output_type": "execute_result"
    }
   ],
   "source": [
    "# Operações matemáticas com a bibliotéca math\n",
    "import math\n",
    "\n",
    "math.exp(10)\n",
    "#Este código importa o módulo `math` e em seguida calcula o valor de \\( e^ {10} \\) usando a função `exp()` do módulo `math`."
   ]
  },
  {
   "cell_type": "code",
   "execution_count": 25,
   "id": "b23dbfd2-a9c0-4f4f-b96d-395660812963",
   "metadata": {},
   "outputs": [
    {
     "data": {
      "text/plain": [
       "1.0"
      ]
     },
     "execution_count": 25,
     "metadata": {},
     "output_type": "execute_result"
    }
   ],
   "source": [
    "math.exp(0)"
   ]
  },
  {
   "cell_type": "code",
   "execution_count": 26,
   "id": "d6b1f285-acb4-467f-9f9b-1f071b8903fe",
   "metadata": {},
   "outputs": [
    {
     "data": {
      "text/plain": [
       "2.718281828459045"
      ]
     },
     "execution_count": 26,
     "metadata": {},
     "output_type": "execute_result"
    }
   ],
   "source": [
    "math.exp(a)"
   ]
  },
  {
   "cell_type": "code",
   "execution_count": 28,
   "id": "00372f8f-e72d-4d2b-979a-dccf14a89138",
   "metadata": {},
   "outputs": [
    {
     "data": {
      "text/plain": [
       "4.5399929762484854e-05"
      ]
     },
     "execution_count": 28,
     "metadata": {},
     "output_type": "execute_result"
    }
   ],
   "source": [
    "math.exp(-10)"
   ]
  },
  {
   "cell_type": "code",
   "execution_count": 29,
   "id": "73783070-21ea-4477-9c0b-b12127ac9d96",
   "metadata": {},
   "outputs": [
    {
     "data": {
      "text/plain": [
       "0.0"
      ]
     },
     "execution_count": 29,
     "metadata": {},
     "output_type": "execute_result"
    }
   ],
   "source": [
    "import math as mt\n",
    "mt.log(c)"
   ]
  },
  {
   "cell_type": "code",
   "execution_count": 30,
   "id": "ca5b777c-4e29-4ead-98e4-76c2c2eec103",
   "metadata": {},
   "outputs": [
    {
     "data": {
      "text/plain": [
       "2.0"
      ]
     },
     "execution_count": 30,
     "metadata": {},
     "output_type": "execute_result"
    }
   ],
   "source": [
    "mt.log10(100)"
   ]
  },
  {
   "cell_type": "markdown",
   "id": "2b7c6f2b-3d76-4ae3-ae89-588c0c37ad1b",
   "metadata": {},
   "source": [
    "### Listas"
   ]
  },
  {
   "cell_type": "code",
   "execution_count": 86,
   "id": "609bed8b-fec2-49d5-a5fe-e2d7057f3e22",
   "metadata": {},
   "outputs": [
    {
     "name": "stdout",
     "output_type": "stream",
     "text": [
      "[1, 2, 3]\n"
     ]
    }
   ],
   "source": [
    "myFirstList = [1,2,3]\n",
    "print(myFirstList)\n",
    "#Este código cria uma lista chamada `myFirstList` contendo os números 1, 2 e 3, e então imprime essa lista na saída padrão."
   ]
  },
  {
   "cell_type": "code",
   "execution_count": 87,
   "id": "625eb3b7-6fbf-40a4-b3a0-11ecaf474298",
   "metadata": {},
   "outputs": [
    {
     "name": "stdout",
     "output_type": "stream",
     "text": [
      "1\n",
      "3\n"
     ]
    }
   ],
   "source": [
    "# Acessando valores da lista pelo index\n",
    "print(myFirstList[0])\n",
    "print(myFirstList[2])\n",
    "#Este código imprime os valores armazenados em índices específicos de uma lista chamada `myFirstList`. \n",
    "#O primeiro `print(myFirstList[0])` imprime o valor armazenado no primeiro índice da lista (`0`).\n",
    "#O segundo `print(myFirstList[2])` imprime o valor armazenado no terceiro índice da lista (`2`). "
   ]
  },
  {
   "cell_type": "code",
   "execution_count": 33,
   "id": "ca3bfa77-214e-4001-b0f3-4b83a5f3ec23",
   "metadata": {},
   "outputs": [
    {
     "data": {
      "text/plain": [
       "False"
      ]
     },
     "execution_count": 33,
     "metadata": {},
     "output_type": "execute_result"
    }
   ],
   "source": [
    "myFirstList==a"
   ]
  },
  {
   "cell_type": "code",
   "execution_count": 34,
   "id": "435ac2de-965a-408b-b281-7cb986c86efb",
   "metadata": {},
   "outputs": [
    {
     "data": {
      "text/plain": [
       "True"
      ]
     },
     "execution_count": 34,
     "metadata": {},
     "output_type": "execute_result"
    }
   ],
   "source": [
    "myFirstList[0]==a"
   ]
  },
  {
   "cell_type": "code",
   "execution_count": 88,
   "id": "80bd0766-8aac-4242-b1fc-9116d772c8f3",
   "metadata": {},
   "outputs": [
    {
     "name": "stdout",
     "output_type": "stream",
     "text": [
      "[1, 1, 'c']\n"
     ]
    }
   ],
   "source": [
    "mySecList = [1,a,'c']\n",
    "print(mySecList)\n",
    "#Neste código, uma lista chamada `mySecList` é criada, contendo três elementos: o número 1, o valor contido na variável `a`, e a string 'c'. Em seguida, a lista `mySecList` é impressa na saída padrão."
   ]
  },
  {
   "cell_type": "code",
   "execution_count": 40,
   "id": "2e1448f2-01e5-4452-becc-24ffd8fc2928",
   "metadata": {},
   "outputs": [
    {
     "data": {
      "text/plain": [
       "list"
      ]
     },
     "execution_count": 40,
     "metadata": {},
     "output_type": "execute_result"
    }
   ],
   "source": [
    "type(mySecList)"
   ]
  },
  {
   "cell_type": "code",
   "execution_count": 41,
   "id": "b1744b27-6e13-443e-acd7-6023595efa4d",
   "metadata": {},
   "outputs": [
    {
     "data": {
      "text/plain": [
       "str"
      ]
     },
     "execution_count": 41,
     "metadata": {},
     "output_type": "execute_result"
    }
   ],
   "source": [
    "type(mySecList[2])"
   ]
  },
  {
   "cell_type": "code",
   "execution_count": 42,
   "id": "aa388186-8111-46ec-9bea-a21f952f0571",
   "metadata": {},
   "outputs": [
    {
     "data": {
      "text/plain": [
       "int"
      ]
     },
     "execution_count": 42,
     "metadata": {},
     "output_type": "execute_result"
    }
   ],
   "source": [
    "type(mySecList[1])"
   ]
  },
  {
   "cell_type": "markdown",
   "id": "9a023ff0-9b71-43bf-8180-c266bd4143fd",
   "metadata": {},
   "source": [
    "### Caminhos = path"
   ]
  },
  {
   "cell_type": "code",
   "execution_count": 89,
   "id": "d6a7076c-98f5-4ff6-89a2-ff02357cb5f2",
   "metadata": {},
   "outputs": [
    {
     "name": "stdout",
     "output_type": "stream",
     "text": [
      "C:\\Users\\Dell\\OneDrive\\Documentos\\GitHub\\Polatm_RamonVieira\n"
     ]
    }
   ],
   "source": [
    "path = r\"C:\\Users\\Dell\\OneDrive\\Documentos\\GitHub\\Polatm_RamonVieira\"\n",
    "print(path)\n",
    "#O código define um caminho de arquivo para um diretório chamado \"Polatm_RamonVieira\" dentro da estrutura de diretórios do usuário atual em um sistema Windows e imprime esse caminho na tela."
   ]
  },
  {
   "cell_type": "code",
   "execution_count": 102,
   "id": "1bd7897e-2655-4e12-9cb3-a84d71fbd620",
   "metadata": {},
   "outputs": [
    {
     "data": {
      "text/plain": [
       "['.git',\n",
       " '.gitignore',\n",
       " '.ipynb_checkpoints',\n",
       " 'Aula01.ipynb',\n",
       " 'inputs',\n",
       " 'outputs',\n",
       " 'README.md',\n",
       " 'scripts',\n",
       " 'venv']"
      ]
     },
     "execution_count": 102,
     "metadata": {},
     "output_type": "execute_result"
    }
   ],
   "source": [
    "import os\n",
    "# Listar arquivos na pasta\n",
    "os.listdir(path)\n",
    "#Este código mostra os arquivos existens na pasta selecionada"
   ]
  },
  {
   "cell_type": "code",
   "execution_count": 45,
   "id": "7dc3f018-2ac5-4b03-94db-e2fb83494c32",
   "metadata": {},
   "outputs": [
    {
     "data": {
      "text/plain": [
       "'.git'"
      ]
     },
     "execution_count": 45,
     "metadata": {},
     "output_type": "execute_result"
    }
   ],
   "source": [
    "# Selecionar primeiro arquivo listado\n",
    "os.listdir(path)[0]"
   ]
  },
  {
   "cell_type": "code",
   "execution_count": 47,
   "id": "bb6e5e27-054f-4d57-a834-7b6c656661f8",
   "metadata": {},
   "outputs": [
    {
     "data": {
      "text/plain": [
       "'C:\\\\Users\\\\Dell\\\\OneDrive\\\\Documentos\\\\GitHub\\\\Polatm_RamonVieira/.git'"
      ]
     },
     "execution_count": 47,
     "metadata": {},
     "output_type": "execute_result"
    }
   ],
   "source": [
    "# Concatenando caminhos\n",
    "path+\"/\"+os.listdir(path)[0]"
   ]
  },
  {
   "cell_type": "code",
   "execution_count": 103,
   "id": "0a268606-7f46-40d1-b0f4-76e3cb96185a",
   "metadata": {},
   "outputs": [
    {
     "data": {
      "text/plain": [
       "['COMMIT_EDITMSG',\n",
       " 'config',\n",
       " 'description',\n",
       " 'FETCH_HEAD',\n",
       " 'HEAD',\n",
       " 'hooks',\n",
       " 'index',\n",
       " 'info',\n",
       " 'logs',\n",
       " 'objects',\n",
       " 'packed-refs',\n",
       " 'refs']"
      ]
     },
     "execution_count": 103,
     "metadata": {},
     "output_type": "execute_result"
    }
   ],
   "source": [
    "# Listando caminho concatenado\n",
    "os.listdir(path+\"/\"+os.listdir(path)[0])"
   ]
  },
  {
   "cell_type": "code",
   "execution_count": 104,
   "id": "7841c49d-5717-4279-90c1-3492fe64ce06",
   "metadata": {},
   "outputs": [
    {
     "data": {
      "text/plain": [
       "'C:\\\\Users\\\\Dell\\\\OneDrive\\\\Documentos'"
      ]
     },
     "execution_count": 104,
     "metadata": {},
     "output_type": "execute_result"
    }
   ],
   "source": [
    "# Diretório que estou trababalhando\n",
    "os.getcwd()\n",
    "#Demonstra o caminho usado no processo"
   ]
  },
  {
   "cell_type": "code",
   "execution_count": 105,
   "id": "c5994739-c81d-486a-90c9-8cf82cff45f4",
   "metadata": {},
   "outputs": [],
   "source": [
    "# Mudo de diretório para o caminho \n",
    "os.chdir('C:\\\\Users\\\\Dell\\\\OneDrive\\\\Documentos\\\\')\n",
    "#Altera o caminho"
   ]
  },
  {
   "cell_type": "code",
   "execution_count": 106,
   "id": "c33eb0c8-f7a5-4851-9238-b54ac9a23558",
   "metadata": {},
   "outputs": [
    {
     "data": {
      "text/plain": [
       "'C:\\\\Users\\\\Dell\\\\OneDrive\\\\Documentos'"
      ]
     },
     "execution_count": 106,
     "metadata": {},
     "output_type": "execute_result"
    }
   ],
   "source": [
    "os.getcwd()\n",
    "#`os.getcwd()` retorna o diretório atual em que o programa está sendo executado."
   ]
  },
  {
   "cell_type": "code",
   "execution_count": 107,
   "id": "dbf06e37-c789-403f-9fc9-656c615ac6fa",
   "metadata": {},
   "outputs": [
    {
     "name": "stdout",
     "output_type": "stream",
     "text": [
      "diretório já existe\n"
     ]
    }
   ],
   "source": [
    "# Criando diretório\n",
    "new_path = os.getcwd()+'/test'\n",
    "\n",
    "if os.path.isdir(new_path):\n",
    "    print('diretório já existe')\n",
    "else:\n",
    "    print('Criando diretório '+new_path)\n",
    "    os.mkdir(new_path)\n",
    "#Cria o novo caminho usando o path"
   ]
  },
  {
   "cell_type": "code",
   "execution_count": 108,
   "id": "75e2e84d-f5a4-4e35-928b-48aca52d1b28",
   "metadata": {},
   "outputs": [
    {
     "name": "stdout",
     "output_type": "stream",
     "text": [
      "diretório já existe\n"
     ]
    }
   ],
   "source": [
    "# Criando diretório\n",
    "new_path = os.getcwd()+'/test2'\n",
    "\n",
    "if os.path.isdir(new_path):\n",
    "    print('diretório já existe')\n",
    "    # Criando um arquivo de texto\n",
    "    with open(new_path+\"/copy.txt\", \"w\") as file:\n",
    "        file.write(\"Your text goes here\")\n",
    "else:\n",
    "    print('Criando diretório '+new_path)\n",
    "    os.mkdir(new_path)\n",
    "    with open(new_path+\"/copy.txt\", \"w\") as file:\n",
    "        file.write(\"Your text goes here\")"
   ]
  },
  {
   "cell_type": "markdown",
   "id": "33b2ff8e-18ea-4097-b14c-d74bca7ab464",
   "metadata": {},
   "source": [
    "### Numpy arrays e Pandas DataFrames"
   ]
  },
  {
   "cell_type": "code",
   "execution_count": 109,
   "id": "a75b6ec2-e7ff-4d44-a481-852ba8a822c2",
   "metadata": {},
   "outputs": [
    {
     "data": {
      "text/plain": [
       "numpy.ndarray"
      ]
     },
     "execution_count": 109,
     "metadata": {},
     "output_type": "execute_result"
    }
   ],
   "source": [
    "import numpy as np\n",
    "# Criando uma variável numpy\n",
    "n = np.array(0)\n",
    "type(n)\n",
    "#Este código cria um array NumPy contendo o número 0 e verifica o tipo desse array."
   ]
  },
  {
   "cell_type": "code",
   "execution_count": 110,
   "id": "c62f3b5d-f9a0-4100-a95d-f0a8f774f2be",
   "metadata": {},
   "outputs": [
    {
     "name": "stdout",
     "output_type": "stream",
     "text": [
      "[ 1  2  3 10 20 55]\n"
     ]
    }
   ],
   "source": [
    "# Criando uma variável numpy a partir de uma lista\n",
    "myThirdList=[1,2,3,10,20,55]\n",
    "n = np.array(myThirdList)\n",
    "print(n)"
   ]
  },
  {
   "cell_type": "code",
   "execution_count": 112,
   "id": "fa83cafb-cbcd-4beb-839b-23333003a14b",
   "metadata": {},
   "outputs": [
    {
     "name": "stdout",
     "output_type": "stream",
     "text": [
      "[[0.47796078 0.36609365 0.94037788 0.52072671 0.90451573 0.74789764\n",
      "  0.56195379 0.35575403 0.22283196 0.91027166]\n",
      " [0.91101081 0.8863507  0.49080765 0.43064455 0.48155293 0.08785784\n",
      "  0.56437582 0.1635047  0.98998872 0.74355118]\n",
      " [0.0819955  0.34871407 0.35829817 0.0185841  0.67373456 0.64343369\n",
      "  0.73423891 0.63562714 0.9504365  0.37841487]\n",
      " [0.92982221 0.79966485 0.64486574 0.3824666  0.87959468 0.07469163\n",
      "  0.01408298 0.32184579 0.91971551 0.71215143]\n",
      " [0.02426417 0.08839363 0.42606631 0.01763228 0.17162648 0.45598763\n",
      "  0.15812928 0.42460214 0.62555761 0.37853606]\n",
      " [0.06455801 0.54008181 0.28951143 0.68345942 0.782422   0.31770945\n",
      "  0.83281569 0.4166736  0.68748335 0.89607736]\n",
      " [0.99305798 0.16859119 0.10162668 0.55448962 0.61120183 0.23413897\n",
      "  0.75562602 0.8534909  0.76324261 0.64394846]\n",
      " [0.77347619 0.00794742 0.48833374 0.95075782 0.61619449 0.55833953\n",
      "  0.86416281 0.82282246 0.8664947  0.12150143]\n",
      " [0.7945484  0.25648912 0.21688285 0.7679364  0.58082471 0.18384633\n",
      "  0.71750105 0.99651837 0.54980791 0.69357664]\n",
      " [0.04189598 0.3600242  0.98194485 0.61628533 0.54407952 0.82673243\n",
      "  0.99096795 0.18623421 0.7008086  0.7712715 ]]\n",
      "(10, 10)\n"
     ]
    }
   ],
   "source": [
    "# Criando uma matriz de 10x10 de números aleatórios entre 0 e 1\n",
    "n = np.random.rand(10,10)\n",
    "print(n)\n",
    "# Dimensões da matrix\n",
    "print(n.shape)"
   ]
  },
  {
   "cell_type": "code",
   "execution_count": 113,
   "id": "6caab403-0e7e-453b-85ba-d4a2ad3db7c8",
   "metadata": {},
   "outputs": [
    {
     "data": {
      "text/plain": [
       "array([0.47796078, 0.36609365, 0.94037788, 0.52072671, 0.90451573,\n",
       "       0.74789764, 0.56195379, 0.35575403, 0.22283196, 0.91027166])"
      ]
     },
     "execution_count": 113,
     "metadata": {},
     "output_type": "execute_result"
    }
   ],
   "source": [
    "# Acessando valores da matriz\n",
    "n[0,:]"
   ]
  },
  {
   "cell_type": "code",
   "execution_count": 117,
   "id": "6a9b332f-a55c-46bd-9616-7aa20432b5c8",
   "metadata": {},
   "outputs": [
    {
     "data": {
      "text/plain": [
       "array([0.47796078, 0.91101081, 0.0819955 , 0.92982221, 0.02426417,\n",
       "       0.06455801, 0.99305798, 0.77347619, 0.7945484 , 0.04189598])"
      ]
     },
     "execution_count": 117,
     "metadata": {},
     "output_type": "execute_result"
    }
   ],
   "source": [
    "n[:,0]\n",
    "#`n[:,0]` extrai todos os elementos da primeira coluna de uma matriz bidimensional `n` e retorna-os como um vetor unidimensional."
   ]
  },
  {
   "cell_type": "code",
   "execution_count": 115,
   "id": "fed900aa-9b0f-40e4-9dc1-5396806793d0",
   "metadata": {},
   "outputs": [
    {
     "data": {
      "text/plain": [
       "array([[0.36609365, 0.94037788, 0.52072671, 0.90451573],\n",
       "       [0.8863507 , 0.49080765, 0.43064455, 0.48155293],\n",
       "       [0.34871407, 0.35829817, 0.0185841 , 0.67373456],\n",
       "       [0.79966485, 0.64486574, 0.3824666 , 0.87959468],\n",
       "       [0.08839363, 0.42606631, 0.01763228, 0.17162648],\n",
       "       [0.54008181, 0.28951143, 0.68345942, 0.782422  ],\n",
       "       [0.16859119, 0.10162668, 0.55448962, 0.61120183],\n",
       "       [0.00794742, 0.48833374, 0.95075782, 0.61619449],\n",
       "       [0.25648912, 0.21688285, 0.7679364 , 0.58082471],\n",
       "       [0.3600242 , 0.98194485, 0.61628533, 0.54407952]])"
      ]
     },
     "execution_count": 115,
     "metadata": {},
     "output_type": "execute_result"
    }
   ],
   "source": [
    "n[:,1:5]"
   ]
  },
  {
   "cell_type": "code",
   "execution_count": 116,
   "id": "3c8e4b09-1db0-4f06-8731-8160b55e7a34",
   "metadata": {},
   "outputs": [
    {
     "data": {
      "text/plain": [
       "array([0.36609365, 0.94037788, 0.52072671, 0.90451573])"
      ]
     },
     "execution_count": 116,
     "metadata": {},
     "output_type": "execute_result"
    }
   ],
   "source": [
    "n[0,1:5]"
   ]
  },
  {
   "cell_type": "code",
   "execution_count": 63,
   "id": "83b04838-139c-455e-83a8-05435bf0010c",
   "metadata": {},
   "outputs": [
    {
     "data": {
      "text/plain": [
       "0.34415345214772675"
      ]
     },
     "execution_count": 63,
     "metadata": {},
     "output_type": "execute_result"
    }
   ],
   "source": [
    "n[0,-1]"
   ]
  },
  {
   "cell_type": "code",
   "execution_count": 64,
   "id": "bd909f5f-45ed-4496-8e7a-baa5fa0b4df2",
   "metadata": {},
   "outputs": [
    {
     "data": {
      "text/plain": [
       "array([0.53955726, 0.30360227, 0.53532288, 0.72741791, 0.67595598])"
      ]
     },
     "execution_count": 64,
     "metadata": {},
     "output_type": "execute_result"
    }
   ],
   "source": [
    "n[0,4:-1]"
   ]
  },
  {
   "cell_type": "code",
   "execution_count": 65,
   "id": "85d1a5de-f2a5-4a7f-a203-83f8dfbd089e",
   "metadata": {},
   "outputs": [
    {
     "data": {
      "text/plain": [
       "array([0.53955726, 0.30360227, 0.53532288, 0.72741791, 0.67595598,\n",
       "       0.34415345])"
      ]
     },
     "execution_count": 65,
     "metadata": {},
     "output_type": "execute_result"
    }
   ],
   "source": [
    "n[0,4:]"
   ]
  },
  {
   "cell_type": "code",
   "execution_count": 118,
   "id": "9a3f9069-c62a-436c-835b-982d66d3c41c",
   "metadata": {},
   "outputs": [
    {
     "name": "stdout",
     "output_type": "stream",
     "text": [
      "[[ 0.8712113   0.60457182  1.54796443  0.95690799  1.50908233  1.31894876\n",
      "   1.03310225  0.57592219  0.10810059  1.51542572]\n",
      " [ 1.5162374   1.48879533  0.89773494  0.76696567  0.87869878 -0.82259726\n",
      "   1.037403   -0.20147564  1.59937619  1.31312024]\n",
      " [-0.89165294  0.55593495  0.58304814 -2.37601112  1.21451884  1.1685016\n",
      "   1.30051709  1.15629476  1.55860399  0.63767378]\n",
      " [ 1.53667603  1.38587533  1.17072477  0.64832396  1.48114384 -0.98494938\n",
      "  -2.65335049  0.47575514  1.52574703  1.26997321]\n",
      " [-2.10931672 -0.81651742  0.75627762 -2.42858595 -0.15299689  0.82414832\n",
      "  -0.23490447  0.75283521  1.14032607  0.63799397]\n",
      " [-1.13075323  0.99340326  0.36987743  1.22884992  1.36407687  0.46281993\n",
      "   1.42649499  0.73398582  1.23472025  1.49970938]\n",
      " [ 1.60247168 -0.17084056 -0.67701126  1.01973073  1.11710987  0.15759744\n",
      "   1.3292292   1.45101751  1.33925858  1.16930132]\n",
      " [ 1.35257752 -3.22546955  0.8926817   1.55894201  1.12524528  1.02664989\n",
      "   1.46344382  1.41442309  1.46613863 -0.49839131]\n",
      " [ 1.37945654  0.24876889  0.08103997  1.34538955  1.06613165 -0.08421714\n",
      "   1.27745705  1.60595021  1.0112516   1.24354438]\n",
      " [-1.5631276   0.58785388  1.59121778  1.12539268  1.00077804  1.41916373\n",
      "   1.60036483 -0.07131226  1.25391744  1.34972309]]\n"
     ]
    }
   ],
   "source": [
    "an = np.log(n*5)\n",
    "print(an)\n",
    "#O código calcula o logaritmo natural do produto de `n` por 5 usando o pacote numpy em Python, e imprime o resultado."
   ]
  },
  {
   "cell_type": "code",
   "execution_count": null,
   "id": "1ad8fe12-64ab-4774-8066-c3d031ba8452",
   "metadata": {},
   "outputs": [],
   "source": []
  }
 ],
 "metadata": {
  "kernelspec": {
   "display_name": "Python 3 (ipykernel)",
   "language": "python",
   "name": "python3"
  },
  "language_info": {
   "codemirror_mode": {
    "name": "ipython",
    "version": 3
   },
   "file_extension": ".py",
   "mimetype": "text/x-python",
   "name": "python",
   "nbconvert_exporter": "python",
   "pygments_lexer": "ipython3",
   "version": "3.11.8"
  }
 },
 "nbformat": 4,
 "nbformat_minor": 5
}
