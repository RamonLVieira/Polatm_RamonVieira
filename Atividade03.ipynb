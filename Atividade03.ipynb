{
 "cells": [
  {
   "cell_type": "markdown",
   "id": "7de91cb9-ceca-48d6-ac6c-2fcc81a7ddf7",
   "metadata": {},
   "source": [
    "# MODELAGEM DE DISPERSÃO\n",
    "Neste notebook vamos implementar um modelo de dispersão gaussiano."
   ]
  },
  {
   "cell_type": "code",
   "execution_count": 21,
   "id": "f9356d0b-3fc0-4dce-89ea-606b8cc62cd6",
   "metadata": {},
   "outputs": [],
   "source": [
    "# Criando uma função do modelo gaussiano\n",
    "import numpy as np\n",
    "def modeloGaussiano(qs,sigmaY,sigmaZ,u,y,z,H):\n",
    "    termo1 = qs/(2*np.pi*sigmaY*sigmaZ*u)\n",
    "    termo2 = np.exp((-y**2)/(2*sigmaY**2))\n",
    "    termo3 = np.exp((-(z-H)**2)/(2*sigmaZ**2)) + np.exp((-(z+H)**2)/(2*sigmaZ**2))\n",
    "    conc = termo1*termo2*termo3\n",
    "    conc = conc*10**6\n",
    "    return conc"
   ]
  },
  {
   "cell_type": "code",
   "execution_count": 36,
   "id": "c7ad56ee-ff6e-44af-b993-7bb2ac20a5f6",
   "metadata": {},
   "outputs": [],
   "source": [
    "# Criando função da estimativa da dispersão lateral e vertical da pluma\n",
    "def sigmaXY(x,classe,urbOrRural):\n",
    "    if UrbOrRural=='urbano':\n",
    "        if (classe=='A') or (classe=='B'):\n",
    "            sigmaY = 0.32*x*(1+0.0004*x)**(-0.5)\n",
    "            sigmaZ = 0.24*x*(1+0.001*x)**(0.5)\n",
    "        else:\n",
    "            print('Classe de estabilidade errada')\n",
    "        if (classe=='A'):\n",
    "            sigmaY = 0.22*x*(1+0.0001*x)**(-0.5)\n",
    "            sigmaZ = 0.2*x\n",
    "        else:\n",
    "            print('Classe de estabilidade errada. Fique ligado')\n",
    "    return sigmaY,sigmaZ "
   ]
  },
  {
   "cell_type": "code",
   "execution_count": 37,
   "id": "96604c7a-fb7d-4414-a3ae-541b1feb334d",
   "metadata": {},
   "outputs": [
    {
     "name": "stdout",
     "output_type": "stream",
     "text": [
      "A concentração estimada é = 86.2052564132534 [$\\mu$]g/m³\n"
     ]
    }
   ],
   "source": [
    "# Utilizando a função do modelo gaussiano\n",
    "qs = 100 # g/s\n",
    "sigmaY = 10 # m\n",
    "sigmaZ = 15 # m\n",
    "u = 10 # m/s\n",
    "y = 0 # estimando na direção do vento\n",
    "z = 1.5 # altura do nariz\n",
    "H = 50 # m\n",
    "\n",
    "# Cahamando a função do modelo Gaussianao\n",
    "conc = modeloGaussiano(qs,sigmaY,sigmaZ,u,y,z,H)\n",
    "\n",
    "print(\"A concentração estimada é = \" +str(conc) + ' [$\\mu$]g/m³')"
   ]
  },
  {
   "cell_type": "code",
   "execution_count": 39,
   "id": "d864f5e0-6bc4-4bc4-8e71-08228184a6fc",
   "metadata": {},
   "outputs": [
    {
     "ename": "UnboundLocalError",
     "evalue": "cannot access local variable 'sigmaY' where it is not associated with a value",
     "output_type": "error",
     "traceback": [
      "\u001b[1;31m---------------------------------------------------------------------------\u001b[0m",
      "\u001b[1;31mUnboundLocalError\u001b[0m                         Traceback (most recent call last)",
      "Cell \u001b[1;32mIn[39], line 16\u001b[0m\n\u001b[0;32m     13\u001b[0m urbOrRural \u001b[38;5;241m=\u001b[39m \u001b[38;5;124m'\u001b[39m\u001b[38;5;124murbano\u001b[39m\u001b[38;5;124m'\u001b[39m\n\u001b[0;32m     15\u001b[0m \u001b[38;5;66;03m# Estimando o coeficiente de dispersão lateral e vertical\u001b[39;00m\n\u001b[1;32m---> 16\u001b[0m sigmaY, sigmaZ \u001b[38;5;241m=\u001b[39m \u001b[43msigmaXY\u001b[49m\u001b[43m(\u001b[49m\u001b[43mxx\u001b[49m\u001b[43m,\u001b[49m\u001b[43m \u001b[49m\u001b[43mclasse\u001b[49m\u001b[43m,\u001b[49m\u001b[43m \u001b[49m\u001b[43murbOrRural\u001b[49m\u001b[43m)\u001b[49m\n\u001b[0;32m     17\u001b[0m \u001b[38;5;28mprint\u001b[39m(sigmaY)\n\u001b[0;32m     19\u001b[0m \u001b[38;5;66;03m# Utilizando a matriz de yy como input na função do modelo Gussiano\u001b[39;00m\n",
      "Cell \u001b[1;32mIn[36], line 14\u001b[0m, in \u001b[0;36msigmaXY\u001b[1;34m(x, classe, urbOrRural)\u001b[0m\n\u001b[0;32m     12\u001b[0m     \u001b[38;5;28;01melse\u001b[39;00m:\n\u001b[0;32m     13\u001b[0m         \u001b[38;5;28mprint\u001b[39m(\u001b[38;5;124m'\u001b[39m\u001b[38;5;124mClasse de estabilidade errada. Fique ligado\u001b[39m\u001b[38;5;124m'\u001b[39m)\n\u001b[1;32m---> 14\u001b[0m \u001b[38;5;28;01mreturn\u001b[39;00m \u001b[43msigmaY\u001b[49m,sigmaZ\n",
      "\u001b[1;31mUnboundLocalError\u001b[0m: cannot access local variable 'sigmaY' where it is not associated with a value"
     ]
    }
   ],
   "source": [
    "# Criando domínio de modelagem\n",
    "x = np.linspace(-10000,10000,500)\n",
    "# print(x)\n",
    "y = np.linspace(-10000,10000,500)\n",
    "# print(y)\n",
    "\n",
    "# Criando matrizes de x e y\n",
    "xx,yy = np.meshgrid(x,y)\n",
    "# print(xx.shape)\n",
    "\n",
    "# Adotando inputs\n",
    "classe = 'A'\n",
    "urbOrRural = 'urbano'\n",
    "\n",
    "# Estimando o coeficiente de dispersão lateral e vertical\n",
    "sigmaY, sigmaZ = sigmaXY(xx, classe, urbOrRural)\n",
    "print(sigmaY)\n",
    "\n",
    "# Utilizando a matriz de yy como input na função do modelo Gussiano\n",
    "conc = modeloGaussiano(qs,sigmaY,sigmaZ,u,yy,z,H)\n",
    "\n",
    "# Visualização dos resultados no espaço\n",
    "import matplotlib.pyplot as plt\n",
    "fig,ax = plt.subplots()\n",
    "ax.contourf(conc)"
   ]
  },
  {
   "cell_type": "code",
   "execution_count": null,
   "id": "9ff9cfe3-02bf-4a40-b43b-a29fb1e47307",
   "metadata": {},
   "outputs": [],
   "source": []
  }
 ],
 "metadata": {
  "kernelspec": {
   "display_name": "Python 3 (ipykernel)",
   "language": "python",
   "name": "python3"
  },
  "language_info": {
   "codemirror_mode": {
    "name": "ipython",
    "version": 3
   },
   "file_extension": ".py",
   "mimetype": "text/x-python",
   "name": "python",
   "nbconvert_exporter": "python",
   "pygments_lexer": "ipython3",
   "version": "3.11.8"
  }
 },
 "nbformat": 4,
 "nbformat_minor": 5
}
